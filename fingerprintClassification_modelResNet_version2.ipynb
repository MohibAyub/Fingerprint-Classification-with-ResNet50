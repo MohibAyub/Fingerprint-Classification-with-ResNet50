{
 "cells": [
  {
   "cell_type": "code",
   "execution_count": 2,
   "metadata": {},
   "outputs": [],
   "source": [
    "import numpy as np\n",
    "import matplotlib.pyplot as plt\n",
    "from tensorflow.keras.preprocessing.image import ImageDataGenerator\n",
    "from sklearn.metrics import confusion_matrix\n",
    "from tensorflow.keras.applications.resnet50 import preprocess_input, decode_predictions, ResNet50\n",
    "from tensorflow.keras.applications.resnet50 import ResNet50\n",
    "from tensorflow.keras import models\n",
    "from tensorflow.keras.models import Model\n",
    "from tensorflow.keras.layers import Input, Dense, Dropout\n",
    "from tensorflow.keras.layers import GlobalAveragePooling2D"
   ]
  },
  {
   "cell_type": "code",
   "execution_count": 3,
   "metadata": {},
   "outputs": [
    {
     "name": "stdout",
     "output_type": "stream",
     "text": [
      "Found 3200 images belonging to 5 classes.\n",
      "Found 800 images belonging to 5 classes.\n"
     ]
    }
   ],
   "source": [
    "imagesize=256\n",
    "\n",
    "train_generator=ImageDataGenerator(featurewise_center=True, \n",
    "                                   vertical_flip=True,\n",
    "                                   preprocessing_function=preprocess_input)\n",
    "\n",
    "train_gen=train_generator.flow_from_directory('fingerprintClassificationDatabase/trainingSet',\n",
    "                                              target_size=(256,256),\n",
    "                                              batch_size=10,\n",
    "                                              class_mode='categorical')\n",
    "\n",
    "validation_generator=ImageDataGenerator(preprocessing_function=preprocess_input)\n",
    "\n",
    "validation_gen=validation_generator.flow_from_directory('fingerprintClassificationDatabase/testSet',\n",
    "                                                        target_size=(imagesize,imagesize),\n",
    "                                                        batch_size=10,\n",
    "                                                        class_mode='categorical')"
   ]
  },
  {
   "cell_type": "code",
   "execution_count": 4,
   "metadata": {},
   "outputs": [],
   "source": [
    "base_model = ResNet50(include_top=False, weights='imagenet')\n",
    "for layer in base_model.layers:\n",
    "    layer.trainable = True\n",
    "\n",
    "x = base_model.output\n",
    "x = GlobalAveragePooling2D()(x)\n",
    "\n",
    "x=Dense(512,activation='relu')(x)\n",
    "\n",
    "predictions = Dense(5, activation='softmax')(x)\n",
    "\n",
    "model = Model(inputs=base_model.input, outputs=predictions)"
   ]
  },
  {
   "cell_type": "code",
   "execution_count": 5,
   "metadata": {},
   "outputs": [],
   "source": [
    "from tensorflow.keras.optimizers import Nadam\n",
    "model.compile(optimizer=Nadam(lr=0.0002, beta_1=0.9, beta_2=0.999, epsilon=None, schedule_decay=0.004), metrics=['accuracy'],loss='categorical_crossentropy')"
   ]
  },
  {
   "cell_type": "code",
   "execution_count": 6,
   "metadata": {},
   "outputs": [
    {
     "name": "stdout",
     "output_type": "stream",
     "text": [
      "Epoch 1/15\n"
     ]
    },
    {
     "name": "stderr",
     "output_type": "stream",
     "text": [
      "C:\\Users\\mohib\\Anaconda3\\lib\\site-packages\\keras_preprocessing\\image.py:959: UserWarning: This ImageDataGenerator specifies `featurewise_center`, but it hasn't been fit on any training data. Fit it first by calling `.fit(numpy_data)`.\n",
      "  warnings.warn('This ImageDataGenerator specifies '\n"
     ]
    },
    {
     "name": "stdout",
     "output_type": "stream",
     "text": [
      "45/45 [==============================] - 801s 18s/step - loss: 1.1749 - acc: 0.5200 - val_loss: 6.6586 - val_acc: 0.3540\n",
      "Epoch 2/15\n",
      "45/45 [==============================] - 786s 17s/step - loss: 0.8135 - acc: 0.6956 - val_loss: 1.1603 - val_acc: 0.7220\n",
      "Epoch 3/15\n",
      "45/45 [==============================] - 785s 17s/step - loss: 0.6811 - acc: 0.7511 - val_loss: 0.5896 - val_acc: 0.7620\n",
      "Epoch 4/15\n",
      "45/45 [==============================] - 789s 18s/step - loss: 0.6469 - acc: 0.7889 - val_loss: 0.9061 - val_acc: 0.6760\n",
      "Epoch 5/15\n",
      "45/45 [==============================] - 787s 17s/step - loss: 0.5325 - acc: 0.8156 - val_loss: 0.4534 - val_acc: 0.8100\n",
      "Epoch 6/15\n",
      "45/45 [==============================] - 787s 17s/step - loss: 0.4439 - acc: 0.8311 - val_loss: 0.4050 - val_acc: 0.8440\n",
      "Epoch 7/15\n",
      "45/45 [==============================] - 787s 17s/step - loss: 0.4080 - acc: 0.8689 - val_loss: 0.4571 - val_acc: 0.8360\n",
      "Epoch 8/15\n",
      "45/45 [==============================] - 788s 18s/step - loss: 0.3941 - acc: 0.8689 - val_loss: 0.8888 - val_acc: 0.7100\n",
      "Epoch 9/15\n",
      "45/45 [==============================] - 798s 18s/step - loss: 0.3894 - acc: 0.8667 - val_loss: 0.5912 - val_acc: 0.7900\n",
      "Epoch 10/15\n",
      "45/45 [==============================] - 806s 18s/step - loss: 0.3961 - acc: 0.8667 - val_loss: 0.3272 - val_acc: 0.8800\n",
      "Epoch 11/15\n",
      "45/45 [==============================] - 816s 18s/step - loss: 0.3884 - acc: 0.8844 - val_loss: 0.4000 - val_acc: 0.8560\n",
      "Epoch 12/15\n",
      "45/45 [==============================] - 797s 18s/step - loss: 0.3273 - acc: 0.9022 - val_loss: 0.3463 - val_acc: 0.8840\n",
      "Epoch 13/15\n",
      "45/45 [==============================] - 789s 18s/step - loss: 0.3999 - acc: 0.8778 - val_loss: 0.3686 - val_acc: 0.8640\n",
      "Epoch 14/15\n",
      "45/45 [==============================] - 811s 18s/step - loss: 0.3776 - acc: 0.8800 - val_loss: 0.3594 - val_acc: 0.8760\n",
      "Epoch 15/15\n",
      "45/45 [==============================] - 811s 18s/step - loss: 0.2926 - acc: 0.9111 - val_loss: 0.4115 - val_acc: 0.8600\n"
     ]
    },
    {
     "data": {
      "text/plain": [
       "<tensorflow.python.keras.callbacks.History at 0x15fd099dac8>"
      ]
     },
     "execution_count": 6,
     "metadata": {},
     "output_type": "execute_result"
    }
   ],
   "source": [
    "model.fit_generator(train_gen, \n",
    "                    steps_per_epoch=45,\n",
    "                    epochs=15,\n",
    "                    validation_data=validation_gen, \n",
    "                    validation_steps=50)"
   ]
  },
  {
   "cell_type": "code",
   "execution_count": 7,
   "metadata": {},
   "outputs": [
    {
     "name": "stdout",
     "output_type": "stream",
     "text": [
      "Loss of trained model : 0.4010588064789772\n",
      "Accuracy of trained model : 0.8299999952316284\n"
     ]
    }
   ],
   "source": [
    "score_training=model.evaluate_generator(validation_gen, \n",
    "                         steps=10, \n",
    "                         verbose=0)\n",
    "print(\"Loss of trained model :\",score_training[0])\n",
    "print(\"Accuracy of trained model :\",score_training[1])"
   ]
  },
  {
   "cell_type": "code",
   "execution_count": 8,
   "metadata": {},
   "outputs": [
    {
     "data": {
      "image/png": "[encoded data removed]",
      "text/plain": [
       "<Figure size 432x288 with 1 Axes>"
      ]
     },
     "metadata": {},
     "output_type": "display_data"
    }
   ],
   "source": [
    "plt.plot(model.history.history['acc'])\n",
    "plt.plot(model.history.history['val_acc'])\n",
    "plt.title('Model Accuracy')\n",
    "plt.ylabel('Accuracy')\n",
    "plt.xlabel('Epoch')\n",
    "plt.legend(['Training', 'Validation'], loc='center right')\n",
    "plt.show()"
   ]
  },
  {
   "cell_type": "code",
   "execution_count": 9,
   "metadata": {},
   "outputs": [
    {
     "data": {
      "image/png": "[encoded data removed]",
      "text/plain": [
       "<Figure size 432x288 with 1 Axes>"
      ]
     },
     "metadata": {},
     "output_type": "display_data"
    }
   ],
   "source": [
    "plt.plot(model.history.history['loss'])\n",
    "plt.plot(model.history.history['val_loss'])\n",
    "plt.title('Model loss')\n",
    "plt.ylabel('Loss')\n",
    "plt.xlabel('Epoch')\n",
    "plt.legend(['Training', 'Validation'], loc='upper right')\n",
    "plt.show()"
   ]
  },
  {
   "cell_type": "code",
   "execution_count": 81,
   "metadata": {},
   "outputs": [],
   "source": [
    "from tensorflow.keras.preprocessing import image \n",
    "test_image = image.load_img('left_loop.jpeg', target_size = (256, 256))"
   ]
  },
  {
   "cell_type": "code",
   "execution_count": 82,
   "metadata": {},
   "outputs": [],
   "source": [
    "test_image = image.img_to_array(test_image)"
   ]
  },
  {
   "cell_type": "code",
   "execution_count": 83,
   "metadata": {},
   "outputs": [],
   "source": [
    "test_image = np.expand_dims(test_image, axis = 0)"
   ]
  },
  {
   "cell_type": "code",
   "execution_count": 84,
   "metadata": {},
   "outputs": [],
   "source": [
    "predictions = model.predict(test_image)"
   ]
  },
  {
   "cell_type": "code",
   "execution_count": 85,
   "metadata": {},
   "outputs": [
    {
     "name": "stdout",
     "output_type": "stream",
     "text": [
      "Predictions:\n",
      "Arch: 0.22082084324210882 %\n",
      "Left Loop: 96.84082865715027 %\n",
      "Right Loop: 0.014203056343831122 %\n",
      "Tended Arch: 0.5413543432950974 %\n",
      "Whirl: 2.382793463766575 %\n"
     ]
    }
   ],
   "source": [
    "print(\"Predictions:\")\n",
    "print(\"Arch:\", (predictions[0][0])*100,\"%\")\n",
    "print(\"Left Loop:\", (predictions[0][1])*100,\"%\")\n",
    "print(\"Right Loop:\", (predictions[0][2])*100,\"%\")\n",
    "print(\"Tended Arch:\", (predictions[0][3])*100,\"%\")\n",
    "print(\"Whirl:\", (predictions[0][4])*100,\"%\")"
   ]
  },
  {
   "cell_type": "code",
   "execution_count": 86,
   "metadata": {},
   "outputs": [
    {
     "data": {
      "text/plain": [
       "array([[2.2082084e-03, 9.6840829e-01, 1.4203056e-04, 5.4135434e-03,\n",
       "        2.3827935e-02]], dtype=float32)"
      ]
     },
     "execution_count": 86,
     "metadata": {},
     "output_type": "execute_result"
    }
   ],
   "source": [
    "predictions"
   ]
  },
  {
   "cell_type": "code",
   "execution_count": 87,
   "metadata": {},
   "outputs": [
    {
     "data": {
      "text/plain": [
       "{'A': 0, 'L': 1, 'R': 2, 'T': 3, 'W': 4}"
      ]
     },
     "execution_count": 87,
     "metadata": {},
     "output_type": "execute_result"
    }
   ],
   "source": [
    "train_gen.class_indices"
   ]
  },
  {
   "cell_type": "code",
   "execution_count": 88,
   "metadata": {},
   "outputs": [],
   "source": [
    "from tensorflow.keras.models import load_model\n",
    "model.save('resNet_model_for_fingerprintClassification_pkl.pkl')  "
   ]
  },
  {
   "cell_type": "code",
   "execution_count": 89,
   "metadata": {},
   "outputs": [],
   "source": [
    "model.save('resNet_model_for_fingerprintClassification_hdf5.hd5')"
   ]
  },
  {
   "cell_type": "code",
   "execution_count": null,
   "metadata": {},
   "outputs": [],
   "source": []
  }
 ],
 "metadata": {
  "kernelspec": {
   "display_name": "Python 3",
   "language": "python",
   "name": "python3"
  },
  "language_info": {
   "codemirror_mode": {
    "name": "ipython",
    "version": 3
   },
   "file_extension": ".py",
   "mimetype": "text/x-python",
   "name": "python",
   "nbconvert_exporter": "python",
   "pygments_lexer": "ipython3",
   "version": "3.6.5"
  }
 },
 "nbformat": 4,
 "nbformat_minor": 2
}
